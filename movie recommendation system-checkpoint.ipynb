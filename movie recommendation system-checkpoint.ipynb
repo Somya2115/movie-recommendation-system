{
 "cells": [
  {
   "cell_type": "markdown",
   "id": "66f6b35e",
   "metadata": {},
   "source": [
    "# Code Clause"
   ]
  },
  {
   "cell_type": "markdown",
   "id": "7a1faf14",
   "metadata": {},
   "source": [
    "# Data Science Intern"
   ]
  },
  {
   "cell_type": "markdown",
   "id": "3df50e90",
   "metadata": {},
   "source": [
    "# Movie Recommendation System"
   ]
  },
  {
   "cell_type": "code",
   "execution_count": null,
   "id": "c2c2b904",
   "metadata": {},
   "outputs": [],
   "source": [
    "#REQUIRED LIBRARIES\n",
    "import pandas as pd\n",
    "from sklearn.metrics.pairwise import cosine_similarity"
   ]
  },
  {
   "cell_type": "code",
   "execution_count": null,
   "id": "d357d07c",
   "metadata": {},
   "outputs": [],
   "source": [
    "#LOAD DATA\n",
    "df=pd.read_csv(\"ratings.csv\")\n",
    "df.head()"
   ]
  },
  {
   "cell_type": "code",
   "execution_count": null,
   "id": "2ae73377",
   "metadata": {},
   "outputs": [],
   "source": [
    "# Data preprocessing\n",
    "df.isnull().sum()"
   ]
  },
  {
   "cell_type": "raw",
   "id": "c4795cd5",
   "metadata": {},
   "source": [
    "No missing/null values present"
   ]
  },
  {
   "cell_type": "code",
   "execution_count": 21,
   "id": "eb0ab4a2",
   "metadata": {},
   "outputs": [
    {
     "data": {
      "text/plain": [
       "(1048575, 4)"
      ]
     },
     "execution_count": 21,
     "metadata": {},
     "output_type": "execute_result"
    }
   ],
   "source": [
    "df.shape"
   ]
  },
  {
   "cell_type": "code",
   "execution_count": 22,
   "id": "6d4599aa",
   "metadata": {},
   "outputs": [
    {
     "name": "stdout",
     "output_type": "stream",
     "text": [
      "<class 'pandas.core.frame.DataFrame'>\n",
      "RangeIndex: 1048575 entries, 0 to 1048574\n",
      "Data columns (total 4 columns):\n",
      " #   Column     Non-Null Count    Dtype  \n",
      "---  ------     --------------    -----  \n",
      " 0   userId     1048575 non-null  int64  \n",
      " 1   movieId    1048575 non-null  int64  \n",
      " 2   rating     1048575 non-null  float64\n",
      " 3   timestamp  1048575 non-null  int64  \n",
      "dtypes: float64(1), int64(3)\n",
      "memory usage: 32.0 MB\n"
     ]
    }
   ],
   "source": [
    "df.info()"
   ]
  },
  {
   "cell_type": "code",
   "execution_count": 23,
   "id": "1ce69da0",
   "metadata": {},
   "outputs": [
    {
     "data": {
      "text/plain": [
       "<bound method NDFrame.describe of          userId  movieId  rating   timestamp\n",
       "0             1      169     2.5  1204927694\n",
       "1             1     2471     3.0  1204927438\n",
       "2             1    48516     5.0  1204927435\n",
       "3             2     2571     3.5  1436165433\n",
       "4             2   109487     4.0  1436165496\n",
       "...         ...      ...     ...         ...\n",
       "1048570   11331     1204     4.0  1090592013\n",
       "1048571   11331     1207     4.0  1090591996\n",
       "1048572   11331     1242     3.5  1090591972\n",
       "1048573   11331     1266     3.5  1090592000\n",
       "1048574   11331     1396     2.5  1090591990\n",
       "\n",
       "[1048575 rows x 4 columns]>"
      ]
     },
     "execution_count": 23,
     "metadata": {},
     "output_type": "execute_result"
    }
   ],
   "source": [
    "df.describe"
   ]
  },
  {
   "cell_type": "code",
   "execution_count": 24,
   "id": "563e3b86",
   "metadata": {},
   "outputs": [
    {
     "data": {
      "text/plain": [
       "array(['userId', 'movieId', 'rating', 'timestamp'], dtype=object)"
      ]
     },
     "execution_count": 24,
     "metadata": {},
     "output_type": "execute_result"
    }
   ],
   "source": [
    "df.columns.values"
   ]
  },
  {
   "cell_type": "code",
   "execution_count": 25,
   "id": "e2989819",
   "metadata": {},
   "outputs": [
    {
     "name": "stdout",
     "output_type": "stream",
     "text": [
      "userId   1      2      3      4      5      6      7      8      9      10     \\\n",
      "movieId                                                                         \n",
      "1          0.0    0.0    0.0    0.0    0.0    0.0    0.0    0.0    0.0    0.0   \n",
      "2          0.0    0.0    0.0    0.0    0.0    0.0    0.0    0.0    0.0    0.0   \n",
      "3          0.0    0.0    0.0    0.0    0.0    0.0    0.0    0.0    0.0    0.0   \n",
      "\n",
      "userId   ...  11322  11323  11324  11325  11326  11327  11328  11329  11330  \\\n",
      "movieId  ...                                                                  \n",
      "1        ...    0.0    0.0    0.0    5.0    0.0    0.0    0.0    4.0    0.0   \n",
      "2        ...    0.0    0.0    0.0    0.0    0.0    0.0    0.0    0.0    0.0   \n",
      "3        ...    0.0    0.0    0.0    0.0    0.0    0.0    0.0    0.0    0.0   \n",
      "\n",
      "userId   11331  \n",
      "movieId         \n",
      "1          0.0  \n",
      "2          0.0  \n",
      "3          0.0  \n",
      "\n",
      "[3 rows x 11331 columns]\n"
     ]
    }
   ],
   "source": [
    "# Create a pivot table with movies as rows and users as columns and missing values is filled with 0\n",
    "pivot_table = pd.pivot_table(df, index='movieId', columns='userId', values='rating').fillna(0)\n",
    "print(pivot_table.head(3))"
   ]
  },
  {
   "cell_type": "code",
   "execution_count": null,
   "id": "b714dcd8",
   "metadata": {},
   "outputs": [],
   "source": [
    "# Calculate the similarity matrix using cosine similarity\n",
    "similarity_matrix = cosine_similarity(pivot_table)\n"
   ]
  },
  {
   "cell_type": "raw",
   "id": "07da0564",
   "metadata": {},
   "source": [
    "The similarity matrix is calculated using cosine similarity with cosine_similarity() from scikit-learn. This matrix represents the similarity between movies based on the ratings provided by users."
   ]
  },
  {
   "cell_type": "code",
   "execution_count": null,
   "id": "edd6fb7a",
   "metadata": {},
   "outputs": [],
   "source": [
    "def get_movie_recommendations(movie_id, top_n=5):\n",
    "    movie_index = pivot_table.index.get_loc(movie_id)\n",
    "    similarity_scores = similarity_matrix[movie_index]\n",
    "    similar_movies_indices = similarity_scores.argsort()[::-1][1:top_n+1]\n",
    "    similar_movies = pivot_table.index[similar_movies_indices]\n",
    "    return similar_movies\n",
    "\n",
    "\n"
   ]
  },
  {
   "cell_type": "raw",
   "id": "fb440184",
   "metadata": {},
   "source": [
    "\n",
    "The get_movie_recommendations() function takes a movie ID as input and returns the top N similar movies based on the cosine similarity scores. It finds the index of the movie in the pivot table, retrieves the similarity scores for that movie, sorts them in descending order, and selects the top N movies as recommendations.\n",
    "\n",
    "\n"
   ]
  },
  {
   "cell_type": "code",
   "execution_count": null,
   "id": "aa6f2071",
   "metadata": {},
   "outputs": [],
   "source": [
    "# Example usage\n",
    "movie_id = 42  # Specify the movie ID for which you want recommendations\n",
    "recommendations = get_movie_recommendations(movie_id)\n",
    "print(f\"Top 5 movie recommendations for movie ID {movie_id}:\")\n",
    "print(recommendations)\n",
    "\n",
    "\n"
   ]
  },
  {
   "cell_type": "code",
   "execution_count": null,
   "id": "bc47ecd3",
   "metadata": {},
   "outputs": [],
   "source": []
  }
 ],
 "metadata": {
  "kernelspec": {
   "display_name": "Python 3 (ipykernel)",
   "language": "python",
   "name": "python3"
  },
  "language_info": {
   "codemirror_mode": {
    "name": "ipython",
    "version": 3
   },
   "file_extension": ".py",
   "mimetype": "text/x-python",
   "name": "python",
   "nbconvert_exporter": "python",
   "pygments_lexer": "ipython3",
   "version": "3.9.13"
  }
 },
 "nbformat": 4,
 "nbformat_minor": 5
}
